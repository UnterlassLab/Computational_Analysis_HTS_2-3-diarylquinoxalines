{
 "cells": [
  {
   "cell_type": "markdown",
   "metadata": {},
   "source": [
    "# General Analysis\n",
    "Check in what particularly the 13 HTS reactions differ from the general reactions for those compounds\n",
    "Use standard data science tools, e.g.. PCA, t-SNE etc. to investigate possible differences"
   ]
  },
  {
   "cell_type": "markdown",
   "metadata": {},
   "source": [
    "## Libraries"
   ]
  },
  {
   "cell_type": "code",
   "execution_count": 53,
   "metadata": {},
   "outputs": [],
   "source": [
    "import pandas as pd\n",
    "import numpy as np\n",
    "from matplotlib import pylab as plt\n",
    "from matplotlib import cm\n",
    "import seaborn as sns\n",
    "from collections import Counter\n",
    "\n",
    "from sklearn.preprocessing import StandardScaler\n",
    "from sklearn.decomposition import PCA\n",
    "from matplotlib.lines import Line2D\n",
    "from sklearn.manifold import TSNE\n",
    "from sklearn.cluster import KMeans\n",
    "from scipy.spatial.distance import cdist\n",
    "import umap"
   ]
  },
  {
   "cell_type": "markdown",
   "metadata": {},
   "source": [
    "## Functions and definitions"
   ]
  },
  {
   "cell_type": "code",
   "execution_count": 54,
   "metadata": {},
   "outputs": [],
   "source": [
    "def Add_Feature_Importance_PCA(score,coeff,labels=None):\n",
    "\n",
    "        n = coeff.shape[0]\n",
    "\n",
    "        for i in range(n):\n",
    "            if abs(coeff[i,0]) < 0.2 and abs(coeff[i,1]) < 0.2:\n",
    "                continue\n",
    "\n",
    "            plt.arrow(0, 0, coeff[i,0], coeff[i,1],color = 'black',alpha = 0.5)\n",
    "            if labels is None:\n",
    "                plt.text(coeff[i,0]* 1.15, coeff[i,1] * 1.15, \"Var\"+str(i+1), color = 'grey', ha = 'center', va = 'center',fontsize=4)\n",
    "            else:\n",
    "                plt.text(coeff[i,0]* 1.15, coeff[i,1] * 1.15, labels[i], color = 'grey', ha = 'center', va = 'center',fontsize=4)"
   ]
  },
  {
   "cell_type": "markdown",
   "metadata": {},
   "source": [
    "## Main part"
   ]
  },
  {
   "cell_type": "code",
   "execution_count": 55,
   "metadata": {},
   "outputs": [
    {
     "name": "stdout",
     "output_type": "stream",
     "text": [
      "{'methanol': 1, 'acetic acid': 2, 'chlorobenzene': 3, '1,4-dioxane': 5, 'N,N-dimethyl-formamide': 5, 'water': 1, 'nitromethane': 6, 'glycerol': 1, 'toluene': 3, 'acetonitrile': 3, 'ethyl acetate': 2, 'dichloromethane': 4, 'dimethyl sulfoxide': 3, 'ethanol': 1, 'chloroform': 6, '1,2-dichloro-ethane': 6, 'neat (no solvent)': 1}\n"
     ]
    }
   ],
   "source": [
    "# Read solvent hazzardned file\n",
    "##\n",
    "solvent_hazzard = {}\n",
    "fp = open('../data/processed/List_of_Solvents.tsv')\n",
    "fp.readline()\n",
    "for line in fp:\n",
    "    tmp = line.strip().split('\\t')\n",
    "    solvent_hazzard[tmp[0]] = int(tmp[1])\n",
    "print (solvent_hazzard)"
   ]
  },
  {
   "cell_type": "code",
   "execution_count": 56,
   "metadata": {},
   "outputs": [
    {
     "name": "stdout",
     "output_type": "stream",
     "text": [
      "{'H200': 1.0, 'H201': 1.0, 'H202': 0.8333333333333334, 'H203': 0.6666666666666666, 'H204': 0.5, 'H205': 0.3333333333333333, 'H206': 1.0, 'H207': 0.5, 'H208': 0.25, 'H220': 1.0, 'H221': 0.75, 'H222': 1.0, 'H223': 0.75, 'H224': 1.0, 'H225': 0.75, 'H226': 0.5, 'H227': 0.25, 'H228': 0.75, 'H229': 0.5, 'H230': 0.5, 'H231': 0.5, 'H232': 1.0, 'H240': 1.0, 'H241': 0.8, 'H242': 0.4, 'H250': 1.0, 'H251': 1.0, 'H252': 0.75, 'H260': 1.0, 'H261': 0.5, 'H270': 1.0, 'H271': 1.0, 'H272': 0.5, 'H280': 0.5, 'H281': 0.5, 'H282': 1.0, 'H283': 0.75, 'H284': 0.5, 'H290': 1.0, 'H300': 1.0, 'H301': 0.5, 'H302': 0.25, 'H303': 0.1, 'H304': 1.0, 'H305': 0.75, 'H310': 1.0, 'H311': 0.5, 'H312': 0.25, 'H313': 0.1, 'H314': 1.0, 'H315': 0.75, 'H316': 0.5, 'H317': 1.0, 'H318': 1.0, 'H319': 0.75, 'H320': 0.5, 'H330': 1.0, 'H331': 0.5, 'H332': 0.25, 'H333': 0.1, 'H334': 1.0, 'H335': 0.5, 'H336': 0.5, 'H340': 1.0, 'H341': 0.75, 'H350': 1.0, 'H350i': 1.0, 'H351': 0.75, 'H360': 1.0, 'H360F': 1.0, 'H360D': 1.0, 'H360FD': 1.0, 'H360Fd': 1.0, 'H360Df': 1.0, 'H361': 0.75, 'H361f': 0.75, 'H361d': 0.75, 'H361fd': 0.75, 'H362': 0.25, 'H370': 1.0, 'H371': 0.75, 'H372': 1.0, 'H373': 0.75, 'H400': 1.0, 'H401': 0.75, 'H402': 0.5, 'H410': 1.0, 'H411': 0.75, 'H412': 0.5, 'H413': 0.25, 'H420': 1.0, 'H300+H310': 1.0, 'H300+H330': 1.0, 'H310+H330': 1.0, 'H300+H310+H330': 1.0, 'H301+H311': 0.5, 'H301+H331': 0.5, 'H311+H331': 0.5, 'H301+H311+H331': 0.5, 'H302+H312': 0.25, 'H302+H332': 0.25, 'H312+H332': 0.25, 'H302+H312+H332': 0.25, 'H303+H313': 0.1, 'H303+H333': 0.1, 'H313+H333': 0.1, 'H303+H313+H333': 0.1, 'H315+H320': 0.75}\n"
     ]
    }
   ],
   "source": [
    "# Read HCode severity list\n",
    "####\n",
    "hcode_severity = {}\n",
    "fp =open('../data/processed/HCode_Severity.csv')\n",
    "fp.readline()\n",
    "for line in fp:\n",
    "    tmp = line.strip().split(',')\n",
    "    hcode_severity[tmp[0]] = float(tmp[1])\n",
    "print (hcode_severity)\n",
    "\n",
    "# Read Catalyst list\n",
    "###\n",
    "catalyst_hazzard_codes = {}\n",
    "fp = open('../data/processed/Catalysts_Overview.tsv')\n",
    "fp.readline()\n",
    "for line in fp:\n",
    "    tmp = line.strip().split('\\t')\n",
    "    #print (tmp)\n",
    "    if tmp[1] not in catalyst_hazzard_codes:\n",
    "        catalyst_hazzard_codes[tmp[1]] = {'GSH': [x for x in tmp[5].split(';') if x != ''],\n",
    "                                    'H': [x for x in tmp[6].split(';') if x != ''],\n",
    "                                    'P': [x for x in tmp[7].split(';') if x != '']}\n",
    "    else:\n",
    "        catalyst_hazzard_codes[tmp[1]]['GSH'].extend([x for x in tmp[5].split(';') if x != ''])\n",
    "        catalyst_hazzard_codes[tmp[1]]['H'].extend([x for x in tmp[6].split(';') if x != ''])            \n",
    "        catalyst_hazzard_codes[tmp[1]]['P'].extend([x for x in tmp[7].split(';') if x != ''])            \n",
    "                         \n",
    "\n",
    "# Calculate severity of a molecule\n",
    "# Currently the calculation = SUM of the individual H_Codes\n",
    "##\n",
    "hazzard_values = []\n",
    "catalyst_hazzard = {}\n",
    "for key in catalyst_hazzard_codes:\n",
    "    catalyst_hazzard[key] = 0.0\n",
    "    H_codes = catalyst_hazzard_codes[key]['H']\n",
    "    for h in H_codes:\n",
    "        catalyst_hazzard[key] += hcode_severity[h]\n",
    "    \n",
    "    hazzard_values.append(catalyst_hazzard[key])"
   ]
  },
  {
   "cell_type": "markdown",
   "metadata": {},
   "source": [
    "### Load reactions"
   ]
  },
  {
   "cell_type": "code",
   "execution_count": 59,
   "metadata": {},
   "outputs": [
    {
     "name": "stdout",
     "output_type": "stream",
     "text": [
      "595\n"
     ]
    }
   ],
   "source": [
    "#Get compiled file of all analyzed reactions\n",
    "reactions = pd.read_csv('../data/processed/All_Reactions.csv')\n",
    "reactions.head()\n",
    "\n",
    "#Total number of reactions (contains also reactions with missing values)\n",
    "print (len(reactions))"
   ]
  },
  {
   "cell_type": "markdown",
   "metadata": {},
   "source": [
    "#### Plot Temperature/Time/Yield"
   ]
  },
  {
   "cell_type": "code",
   "execution_count": 60,
   "metadata": {},
   "outputs": [
    {
     "name": "stdout",
     "output_type": "stream",
     "text": [
      "Temperature (Reaction Details) [C]\n",
      "Number of values: 479\n",
      "Time (Reaction Details) [h]\n",
      "Number of values: 538\n",
      "Yield (numerical)\n",
      "Number of values: 513\n"
     ]
    }
   ],
   "source": [
    "#reaxys parameters used for analysis (3 that could be used directly)\n",
    "important_columns = ['Temperature (Reaction Details) [C]','Time (Reaction Details) [h]','Yield (numerical)']\n",
    "\n",
    "#dictionary saving mean results\n",
    "mean_results = {}\n",
    "\n",
    "#Go through each parameter and create a boxplot/histogram (HTS vs. Literature); pooled for all compounds\n",
    "for f in important_columns:\n",
    "    print(f)\n",
    "    \n",
    "    #get HTS values\n",
    "    real = [float(x) for x in reactions.loc[reactions['Type'] == 'Fabian'][f].values if x !='None']\n",
    "    \n",
    "    #Get literature values\n",
    "    literature = [ float(x) for x in reactions.loc[reactions['Type'] == 'Other'][f].values if x !='None']\n",
    "    \n",
    "    #add mean to mean_dic\n",
    "    mean_results[f] = np.mean(literature)\n",
    "    \n",
    "    plt.bar([0,1],[np.mean(real), np.mean(literature)],\n",
    "            yerr = [1.95*np.std(real)/np.sqrt(len(real)),1.95*np.std(literature)/np.sqrt(len(literature))], color = ['#2291A5','grey'])\n",
    "    \n",
    "    plt.ylabel('Mean Result [95% CI]')\n",
    "    plt.title('ZScore: %.2f' %((np.mean(real)-np.mean(literature))/np.std(literature)))\n",
    "    plt.ylim([0,max([np.mean(real),np.mean(literature)+0.2*np.std(literature)])])\n",
    "    plt.xticks([0,1],['Real','Litertature'])\n",
    "    plt.savefig('../results/3_General_Analysis/Feature_boxplots_and_histograms/Box_'+f+'.pdf')\n",
    "    plt.close()\n",
    "    \n",
    "    \n",
    "    plt.title('ZScore: %.2f' %((np.mean(real)-np.mean(literature))/np.std(literature)))\n",
    "    if len(list(set(real))) == 1:\n",
    "        plt.boxplot(literature)\n",
    "        plt.scatter([1],[real[0]],s=20, color='red',marker='x')\n",
    "    else:\n",
    "        plt.boxplot([real,literature])\n",
    "        plt.xticks([1,2],['Real','Litertature'])\n",
    "    plt.ylabel(f)\n",
    "    \n",
    "    plt.savefig('../results/3_General_Analysis/Feature_boxplots_and_histograms/Boxplot_'+f+'.pdf')\n",
    "    plt.close()\n",
    "    \n",
    "    \n",
    "    print('Number of values: %d' %len(literature))\n",
    "    sns.distplot(literature,kde=False, rug=True)\n",
    "    plt.axvline(real[0], lw=2, color='red')\n",
    "    plt.savefig('../results/3_General_Analysis/Feature_boxplots_and_histograms/Histogram_'+f+'.pdf')\n",
    "    plt.close()\n"
   ]
  },
  {
   "cell_type": "markdown",
   "metadata": {},
   "source": [
    "#### Plot: \"Has catalyst\"\n",
    "same as previous/ just for having a Reagent/Catalyst (needs different handling)"
   ]
  },
  {
   "cell_type": "code",
   "execution_count": 22,
   "metadata": {},
   "outputs": [
    {
     "name": "stdout",
     "output_type": "stream",
     "text": [
      "581\n"
     ]
    }
   ],
   "source": [
    "f = 'Reagent/Catalyst'\n",
    "real = [1 for x in reactions.loc[reactions['Type'] == 'Fabian'][f].values] \n",
    "literature = reactions.loc[reactions['Type'] == 'Other'][f].values\n",
    "\n",
    "literature_result = []\n",
    "for solvent in literature:\n",
    "    \n",
    "    if solvent != 'None':\n",
    "        literature_result.append(1)\n",
    "    else:\n",
    "        literature_result.append(0)\n",
    "\n",
    "literature = literature_result\n",
    "       \n",
    "mean_results[f] = np.mean(literature)    \n",
    "\n",
    "plt.title('ZScore: %.2f' %((np.mean(real)-np.mean(literature))/np.std(literature)))\n",
    "plt.bar([0,1],[np.mean(real), np.mean(literature)],\n",
    "        yerr = [1.95*np.std(real)/np.sqrt(len(real)),1.95*np.std(literature)/np.sqrt(len(literature))], color = ['#2291A5','grey'])\n",
    "plt.ylabel('Mean Result [95% CI]')\n",
    "plt.ylim([0,max([np.mean(real),np.mean(literature)+0.2*np.std(literature)])])\n",
    "plt.xticks([0,1],['Real','Litertature'])\n",
    "plt.savefig('../results/3_General_Analysis/Feature_boxplots_and_histograms/Box_HasCatalyst.pdf')\n",
    "plt.close()\n",
    "\n",
    "\n",
    "plt.title('ZScore: %.2f' %((np.mean(real)-np.mean(literature))/np.std(literature)))\n",
    "plt.boxplot(literature)\n",
    "plt.scatter([1],[real[0]],s=20, color='red',marker='x')\n",
    "plt.ylabel(f)\n",
    "plt.savefig('../results/3_General_Analysis/Feature_boxplots_and_histograms/Boxplot_HasCatalyst.pdf')\n",
    "plt.close()\n",
    "\n",
    "\n",
    "print(len(literature))\n",
    "sns.distplot(literature,kde=False, rug=True)\n",
    "plt.axvline(real[0], lw=2, color='red')\n",
    "plt.savefig('../results/3_General_Analysis/Feature_boxplots_and_histograms/Histogram_HasCatalyst.pdf')\n",
    "plt.close()"
   ]
  },
  {
   "cell_type": "markdown",
   "metadata": {},
   "source": [
    "#### Plot: \"Solvent toxicity\"\n",
    "same as before just for solven toxicity (needs different handling)"
   ]
  },
  {
   "cell_type": "code",
   "execution_count": 23,
   "metadata": {},
   "outputs": [
    {
     "name": "stdout",
     "output_type": "stream",
     "text": [
      "452\n"
     ]
    }
   ],
   "source": [
    "f = 'Solvent (Reaction Details)'\n",
    "real = [solvent_hazzard[x] for x in reactions.loc[reactions['Type'] == 'Fabian'][f].values] \n",
    "literature = reactions.loc[reactions['Type'] == 'Other'][f].values\n",
    "\n",
    "literature_result = []\n",
    "for solvent in literature:\n",
    "    \n",
    "    if solvent != 'None':\n",
    "        tmp  = solvent.split(';')\n",
    "        values = []\n",
    "        for s in tmp:\n",
    "            values.append(solvent_hazzard[s.strip()])\n",
    "        literature_result.append(max(values))\n",
    "\n",
    "literature = literature_result\n",
    "       \n",
    "mean_results[f] = np.mean(literature)    \n",
    "\n",
    "plt.title('ZScore: %.2f' %((np.mean(real)-np.mean(literature))/np.std(literature)))\n",
    "plt.bar([0,1],[np.mean(real), np.mean(literature)],\n",
    "        yerr = [1.95*np.std(real)/np.sqrt(len(real)),1.95*np.std(literature)/np.sqrt(len(literature))], color = ['#2291A5','grey'])\n",
    "plt.ylabel('Mean Result [95% CI]')\n",
    "plt.ylim([0,max([np.mean(real),np.mean(literature)+0.2*np.std(literature)])])\n",
    "plt.xticks([0,1],['Real','Litertature'])\n",
    "plt.savefig('../results/3_General_Analysis/Feature_boxplots_and_histograms/Box_'+f+'.pdf')\n",
    "plt.close()\n",
    "\n",
    "\n",
    "plt.title('ZScore: %.2f' %((np.mean(real)-np.mean(literature))/np.std(literature)))\n",
    "plt.boxplot(literature)\n",
    "plt.scatter([1],[real[0]],s=20, color='red',marker='x')\n",
    "plt.ylabel(f)\n",
    "plt.savefig('../results/3_General_Analysis/Feature_boxplots_and_histograms/Boxplot_'+f+'.pdf')\n",
    "plt.close()\n",
    "\n",
    "\n",
    "print(len(literature))\n",
    "sns.distplot(literature,kde=False, rug=True)\n",
    "plt.axvline(real[0], lw=2, color='red')\n",
    "plt.savefig('../results/3_General_Analysis/Feature_boxplots_and_histograms/Histogram_'+f+'.pdf')\n",
    "plt.close()"
   ]
  },
  {
   "cell_type": "code",
   "execution_count": 24,
   "metadata": {},
   "outputs": [
    {
     "name": "stdout",
     "output_type": "stream",
     "text": [
      "452\n"
     ]
    }
   ],
   "source": [
    "# Make a pie chart for solvent hazzardness\n",
    "##\n",
    "data = []\n",
    "for i in range(1,7):\n",
    "    data.append(literature.count(i))\n",
    "\n",
    "print (len(literature))\n",
    "plt.title('Overivew hazardousness solvent [n = %d] ' %len(literature))\n",
    "\n",
    "plt.pie(data, colors =['#1a9850','#91cf60','#d9ef8b','#fee08b','#fc8d59','#d73027'], labels=[str(x) for x in range(1,7)],  autopct='%1.1f%%', pctdistance=0.75)\n",
    "plt.legend(['Recommended (R)','Between R/P','Problematic (P)', 'Between (P/H)', 'Hazardous (H)', 'Highly hazardous (HH)'], bbox_to_anchor=(1, 1),  prop={'size': 6}, frameon=False)\n",
    "plt.savefig('../results/3_General_Analysis/Piechart_Solvents.pdf')\n",
    "plt.close()"
   ]
  },
  {
   "cell_type": "markdown",
   "metadata": {},
   "source": [
    "#### Plot: \"Catalyst toxicity\"\n",
    "same as previous/ just for hazzardnes of Reagent/Catalyst (needs different handling)"
   ]
  },
  {
   "cell_type": "code",
   "execution_count": 52,
   "metadata": {},
   "outputs": [
    {
     "name": "stdout",
     "output_type": "stream",
     "text": [
      "484\n",
      "484\n"
     ]
    }
   ],
   "source": [
    "f = 'Reagent/Catalyst'\n",
    "real = [catalyst_hazzard[x] for x in reactions.loc[reactions['Type'] == 'Fabian'][f].values] \n",
    "literature = reactions.loc[reactions['Type'] == 'Other'][f].values\n",
    "\n",
    "literature_result = []\n",
    "for catalyst in literature:\n",
    "    if catalyst != 'None' :\n",
    "\n",
    "        literature_result.append(catalyst_hazzard[catalyst])\n",
    "\n",
    "print (len(literature_result))  \n",
    "literature = literature_result\n",
    "       \n",
    "mean_results[f] = np.mean(literature)    \n",
    "\n",
    "plt.title('ZScore: %.2f' %((np.mean(real)-np.mean(literature))/np.std(literature)))\n",
    "plt.bar([0,1],[np.mean(real), np.mean(literature)],\n",
    "        yerr = [1.95*np.std(real)/np.sqrt(len(real)),1.95*np.std(literature)/np.sqrt(len(literature))], color = ['#2291A5','grey'])\n",
    "plt.ylabel('Mean Result [95% CI]')\n",
    "plt.ylim([0,max([np.mean(real),np.mean(literature)+0.2*np.std(literature)])])\n",
    "plt.xticks([0,1],['Real','Litertature'])\n",
    "plt.savefig('../results/3_General_Analysis/Feature_boxplots_and_histograms/Box_CatalystToxicity.pdf')\n",
    "plt.close()\n",
    "\n",
    "\n",
    "plt.title('ZScore: %.2f' %((np.mean(real)-np.mean(literature))/np.std(literature)))\n",
    "plt.boxplot(literature)\n",
    "plt.scatter([1],[real[0]],s=20, color='red',marker='x')\n",
    "plt.ylabel(f)\n",
    "plt.savefig('../results/3_General_Analysis/Feature_boxplots_and_histograms/Boxplot_CatalystToxicity.pdf')\n",
    "plt.close()\n",
    "\n",
    "\n",
    "print(len(literature))\n",
    "sns.distplot(literature,kde=False, rug=True)\n",
    "plt.axvline(real[0], lw=2, color='red')\n",
    "plt.savefig('../results/3_General_Analysis/Feature_boxplots_and_histograms/Histogram_Box_CatalystToxicity.pdf')\n",
    "plt.close()"
   ]
  },
  {
   "cell_type": "code",
   "execution_count": 28,
   "metadata": {},
   "outputs": [
    {
     "name": "stdout",
     "output_type": "stream",
     "text": [
      "0.0\n",
      "484\n"
     ]
    }
   ],
   "source": [
    "# Make Pie chart for all catalyst/reagent hazzardness\n",
    "##\n",
    "\n",
    "data = []\n",
    "for i in range(1,10):\n",
    "    \n",
    "    data.append(len([x for x in literature if x < i and x >= (i -1)]))\n",
    "\n",
    "print (len(literature))\n",
    "plt.title('Overivew hazardousness catalyst [n = %d] ' %len(literature))\n",
    "\n",
    "plt.pie(data, colors =['#1a9850','#66bd63','#a6d96a','#d9ef8b','#ffffbf','#fee08b','#fdae61','#f46d43','#d73027'], labels=[str(x) for x in range(1,10)],  autopct='%1.1f%%', pctdistance=0.75)\n",
    "plt.legend(['1','2','3','4','5','6','7','8','9'], bbox_to_anchor=(1, 1),  prop={'size': 6}, frameon=False)\n",
    "plt.savefig('../results/3_General_Analysis/Piechart_Catalysts.pdf')\n",
    "plt.close()"
   ]
  },
  {
   "cell_type": "code",
   "execution_count": 1,
   "metadata": {},
   "outputs": [
    {
     "ename": "NameError",
     "evalue": "name 'hazzard_values' is not defined",
     "output_type": "error",
     "traceback": [
      "\u001b[0;31m---------------------------------------------------------------------------\u001b[0m",
      "\u001b[0;31mNameError\u001b[0m                                 Traceback (most recent call last)",
      "\u001b[0;32m<ipython-input-1-71b53a4c27af>\u001b[0m in \u001b[0;36m<module>\u001b[0;34m\u001b[0m\n\u001b[1;32m      2\u001b[0m \u001b[0;31m# Solvent and catalyst have trivial (=known) values\u001b[0m\u001b[0;34m\u001b[0m\u001b[0;34m\u001b[0m\u001b[0;34m\u001b[0m\u001b[0m\n\u001b[1;32m      3\u001b[0m \u001b[0;31m##\u001b[0m\u001b[0;34m\u001b[0m\u001b[0;34m\u001b[0m\u001b[0;34m\u001b[0m\u001b[0m\n\u001b[0;32m----> 4\u001b[0;31m \u001b[0mmax_min\u001b[0m \u001b[0;34m=\u001b[0m \u001b[0;34m{\u001b[0m\u001b[0;34m'Solvent (Reaction Details)'\u001b[0m\u001b[0;34m:\u001b[0m\u001b[0;34m{\u001b[0m\u001b[0;34m'max'\u001b[0m\u001b[0;34m:\u001b[0m\u001b[0;36m6\u001b[0m\u001b[0;34m,\u001b[0m\u001b[0;34m'min'\u001b[0m\u001b[0;34m:\u001b[0m\u001b[0;36m1\u001b[0m\u001b[0;34m}\u001b[0m\u001b[0;34m,\u001b[0m \u001b[0;34m'Reagent/Catalyst'\u001b[0m\u001b[0;34m:\u001b[0m\u001b[0;34m{\u001b[0m\u001b[0;34m'max'\u001b[0m\u001b[0;34m:\u001b[0m\u001b[0mmax\u001b[0m\u001b[0;34m(\u001b[0m\u001b[0mhazzard_values\u001b[0m\u001b[0;34m)\u001b[0m\u001b[0;34m,\u001b[0m\u001b[0;34m'min'\u001b[0m\u001b[0;34m:\u001b[0m\u001b[0mmin\u001b[0m\u001b[0;34m(\u001b[0m\u001b[0mhazzard_values\u001b[0m\u001b[0;34m)\u001b[0m\u001b[0;34m}\u001b[0m\u001b[0;34m}\u001b[0m\u001b[0;34m\u001b[0m\u001b[0;34m\u001b[0m\u001b[0m\n\u001b[0m\u001b[1;32m      5\u001b[0m \u001b[0;34m\u001b[0m\u001b[0m\n\u001b[1;32m      6\u001b[0m \u001b[0;32mfor\u001b[0m \u001b[0mf\u001b[0m \u001b[0;32min\u001b[0m \u001b[0mimportant_columns\u001b[0m\u001b[0;34m:\u001b[0m\u001b[0;34m\u001b[0m\u001b[0;34m\u001b[0m\u001b[0m\n",
      "\u001b[0;31mNameError\u001b[0m: name 'hazzard_values' is not defined"
     ]
    }
   ],
   "source": [
    "# Find max/min values (needed for POC normalization)\n",
    "# Solvent and catalyst have trivial (=known) values\n",
    "##\n",
    "max_min = {'Solvent (Reaction Details)':{'max':6,'min':1}, 'Reagent/Catalyst':{'max':max(hazzard_values),'min':min(hazzard_values)}}\n",
    "\n",
    "for f in important_columns:\n",
    "    if f != 'Solvent (Reaction Details)' and f!= 'Reagent/Catalyst':\n",
    "        tmp = reactions[f].copy()\n",
    "        tmp.replace('None', np.nan, inplace=True)\n",
    "\n",
    "        tmp = tmp.astype(float)\n",
    "        maximum = (tmp.astype(float).max(skipna=True))\n",
    "        minimum = (tmp.astype(float).min(skipna=True))\n",
    "\n",
    "        max_min[f] = {'max':maximum,'min':minimum}\n",
    "\n",
    "print (max_min)"
   ]
  },
  {
   "cell_type": "markdown",
   "metadata": {},
   "source": [
    "## Create Feature vectors"
   ]
  },
  {
   "cell_type": "code",
   "execution_count": 30,
   "metadata": {},
   "outputs": [],
   "source": [
    "# This part creates a vector containing all values for the individual reactions\n",
    "# Addtionally colors are associated, e.g., tab20 for the different compound number, RdYlGn for parameter values\n",
    "########\n",
    "colormap = cm.get_cmap('tab20',14)\n",
    "colormap_gradient = cm.get_cmap('RdYlGn', 100)\n",
    "\n",
    "\n",
    "#final data_vector containing all data (used for annotation)\n",
    "all_Data_combined = []\n",
    "\n",
    "# different color vectors (needed for the different plots later)\n",
    "is_literature = []\n",
    "colors_reactionNumber = []\n",
    "colors_solvent = []\n",
    "colors_catalysator = []\n",
    "colors_yield = []\n",
    "colors_has_catalysator = []\n",
    "\n",
    "#used for colors (as some values are quite far off compared to other values, this is need to show a more linient grade of color)\n",
    "manual_borders =  {'Temperature (Reaction Details) [C]': {'Max':100.0, 'Min':20.0},'Time (Reaction Details) [h]':{'Max':4.0, 'Min':0.0},'Yield (numerical)':{'Max':100.0, 'Min':70.0}}\n",
    "colors_continues = {'Temperature (Reaction Details) [C]': [],'Time (Reaction Details) [h]':[],'Yield (numerical)':[]}\n",
    "\n",
    "#contains the info for each reaction (to find them later)\n",
    "labels = []\n",
    "for row in reactions.iterrows():\n",
    "    data = row[1]\n",
    "    \n",
    "    \n",
    "    tmp_row = []\n",
    "    \n",
    "    #remove all reactions that are not fully annotated\n",
    "    if  'None' in data[important_columns].values:\n",
    "        continue\n",
    "        \n",
    "    #save label\n",
    "    labels.append(data)    \n",
    "    \n",
    "    keep_row = True\n",
    "    for f in important_columns:\n",
    "        val = data[f]\n",
    "        \n",
    "        #this should never happen (see before; code used from before)\n",
    "        if val != 'None':\n",
    "            feature_val = float(val)\n",
    "        else:\n",
    "            feature_val = mean_results[f]\n",
    "                    \n",
    "        tmp_row.append(feature_val)\n",
    "    \n",
    "        #by far most reported yields are between 1 and 4.5\n",
    "        normed = (feature_val - manual_borders[f]['Min'])/(manual_borders[f]['Max']-manual_borders[f]['Min'])\n",
    "        normed = normed * 100\n",
    "        if normed > 100:\n",
    "            normed = 100\n",
    "        \n",
    "        #for the majority of features higher values are accociated with worse conditions (higher harzard, temperature etc.)\n",
    "        if f != 'Yield (numerical)':\n",
    "            normed = 100 - normed\n",
    "        \n",
    "        colors_continues[f].append(colormap_gradient(int(normed)))\n",
    "\n",
    "        \n",
    "    #SOLVENT\n",
    "    #######\n",
    "    solvent = data['Solvent (Reaction Details)']\n",
    "    #print (solvent)\n",
    "    if solvent != 'None':\n",
    "        tmp  = solvent.split(';')\n",
    "        values = []\n",
    "        for s in tmp:\n",
    "            values.append(solvent_hazzard[s.strip()])\n",
    "        solvent_val = max(values)\n",
    "    else:\n",
    "        solvent_val = mean_results['Solvent (Reaction Details)']\n",
    "    tmp_row.append(solvent_val)\n",
    "\n",
    "    \n",
    "    #by far most reported solvent are between 1 and 4.5\n",
    "    normed = (solvent_val - 1)/(2-1)\n",
    "    normed = normed * 100\n",
    "    if normed > 100:\n",
    "        normed = 100\n",
    "    \n",
    "    #invert for color (green good, red bad)\n",
    "    normed = 100 - normed\n",
    "    colors_solvent.append(colormap_gradient(int(normed)))\n",
    "    \n",
    "    \n",
    "    \n",
    "    #Catalystor toxicity\n",
    "    #######\n",
    "    catalyst = data['Reagent/Catalyst']\n",
    "    #print (solvent)\n",
    "    if catalyst != 'None':\n",
    "        catalyst_val = catalyst_hazzard[catalyst]\n",
    "    else:\n",
    "        catalyst_val = mean_results['Reagent/Catalyst']\n",
    "    tmp_row.append(catalyst_val)\n",
    "\n",
    "\n",
    "    normed = (catalyst_val - 1)/(4-1)\n",
    "    normed = normed * 100\n",
    "    if normed > 100:\n",
    "        normed = 100\n",
    "    \n",
    "    #invert for color (green good, red bad)\n",
    "    normed = 100 - normed\n",
    "    colors_catalysator.append(colormap_gradient(int(normed)))\n",
    "    \n",
    "    \n",
    "    \n",
    "    #Has Catalyst (good features?)\n",
    "    ####\n",
    "    \n",
    "    if catalyst != 'None':\n",
    "        colors_has_catalysator.append(colormap_gradient(0))\n",
    "    else:\n",
    "        colors_has_catalysator.append(colormap_gradient(100))\n",
    "    \n",
    "    \n",
    "    # Combine vector\n",
    "    ##\n",
    "    all_Data_combined.append(tmp_row)\n",
    "    \n",
    "    #colors for reaction number\n",
    "    #######\n",
    "    colors_reactionNumber.append(colormap(data['Compound_ID']-1))\n",
    "\n",
    "    #colors for reaction number\n",
    "    #######\n",
    "    if data['Yield (numerical)'] != 'None':\n",
    "        val = float(data['Yield (numerical)'])\n",
    "    else:\n",
    "        val = float(mean_results['Yield (numerical)'])\n",
    "    #by far most reported yields are between 70 and 100\n",
    "    normed = (val - 70.0)/(100-70)\n",
    "    normed = normed * 100\n",
    "    if normed < 0:\n",
    "        normed = 0\n",
    "    colors_yield.append(colormap_gradient(int(normed)))\n",
    "\n",
    "    \n",
    "    if data['Type'] == 'Other':\n",
    "        is_literature.append(True)\n",
    "    else:\n",
    "        is_literature.append(False)"
   ]
  },
  {
   "cell_type": "code",
   "execution_count": 31,
   "metadata": {},
   "outputs": [],
   "source": [
    "# Create a final list of all reactions (including their references/source)\n",
    "## \n",
    "\n",
    "#list of solvents with toxicity = 1\n",
    "recommended_solvents  = []\n",
    "\n",
    "#create output file\n",
    "fp_out = open('../results/3_General_Analysis/Reaction_Table.tsv','w')\n",
    "fp_out.write('Copound_ID\\tIs_Literature\\tIs_HTS\\tTemperature[C]\\tTime[h]\\tYield[%]\\tSolvent\\tSolvent_Toxicity[Category]\\tCatalyst\\tCatalyst_Toxicity[Score]\\tReaxysLink\\tSource\\n')\n",
    "\n",
    "#go through all reactions\n",
    "for l,d in zip(labels,all_Data_combined):\n",
    "    \n",
    "    #extract information\n",
    "    solvent = l[3]\n",
    "    catalyst = l[13]\n",
    "    Compound_ID = l[11]\n",
    "    reaction_type = l[12]\n",
    "    article = l[10]\n",
    "    link = l[9]\n",
    "    \n",
    "    #check for HTS or literature\n",
    "    if reaction_type == 'Other':\n",
    "        is_HTS = 'False'\n",
    "        Is_Literature = 'True'\n",
    "    else:\n",
    "        is_HTS = 'True'\n",
    "        Is_Literature = 'False'\n",
    "        \n",
    "    \n",
    "    #Reactions that don't have a toxicity assumed got the mean toxicity value ca. 1.5 assigned\n",
    "    if '.' in str(d[3]):\n",
    "        solvent_toxicity = 'None'\n",
    "    else:\n",
    "        solvent_toxicity = str(d[3])\n",
    "    \n",
    "    fp_out.write(str(Compound_ID)+'\\t'+Is_Literature+'\\t'+is_HTS+'\\t'+\n",
    "                str(d[0])+'\\t'+str(d[1])+'\\t'+str(d[2])+'\\t'+solvent+'\\t'+\n",
    "                 solvent_toxicity+'\\t'+catalyst+'\\t'+str(d[4])+'\\t'+link+'\\t'+article+'\\n')\n",
    "    \n",
    "    #find recommended solvents\n",
    "    if solvent_toxicity == '1' and is_HTS == 'False':\n",
    "        recommended_solvents.append(solvent)\n",
    "        \n",
    "fp_out.close()"
   ]
  },
  {
   "cell_type": "code",
   "execution_count": 32,
   "metadata": {},
   "outputs": [
    {
     "name": "stdout",
     "output_type": "stream",
     "text": [
      "Counter({'ethanol': 108, 'water': 74, 'methanol': 34, 'neat (no solvent)': 31, 'ethanol; water': 19, 'ethanol; ethanol': 11, 'glycerol': 8, 'water; glycerol': 6, 'methanol; water': 2})\n",
      "('neat (no solvent)', 'ethanol; water', 'ethanol', 'water', 'ethanol; ethanol', 'glycerol', 'water; glycerol', 'methanol; water', 'methanol')\n",
      "[37.0, 25.0, 12.0, 11.0, 6.0, 4.0, 3.0, 2.0, 1.0]\n"
     ]
    }
   ],
   "source": [
    "# Create a bar graph showing which recommded solvent appear most often\n",
    "# This is important as direct comparison to HTS (which uses also water = R)\n",
    "###\n",
    "r_counts = Counter(recommended_solvents)\n",
    "print(r_counts)\n",
    "\n",
    "s_labels = []\n",
    "s_count = []\n",
    "s_percentages = []\n",
    "for r in r_counts:\n",
    "    s_labels.append(r)\n",
    "    s_count.append(r_counts[r])\n",
    "    s_percentages.append(r_counts[r]/len(recommended_solvents))\n",
    "\n",
    "s_count, s_labels = zip(*sorted(zip(s_count, s_labels), reverse=True))\n",
    "\n",
    "s_percentages, s_labels = zip(*sorted(zip(s_percentages, s_labels), reverse=True))\n",
    "\n",
    "print(s_labels)\n",
    "print([round(x,2)*100 for x in s_percentages])\n",
    "\n",
    "plt.bar(range(0,len(s_count)),s_count, color='#2291A5')\n",
    "plt.ylabel('Number of reactions')\n",
    "plt.xticks(range(0,len(s_count)),s_labels, rotation=45, size=3)\n",
    "plt.savefig(\"../results/3_General_Analysis/Category1_Solvents.pdf\")\n",
    "plt.close()\n",
    "#plt.boar(5,5])"
   ]
  },
  {
   "cell_type": "code",
   "execution_count": 33,
   "metadata": {},
   "outputs": [
    {
     "name": "stdout",
     "output_type": "stream",
     "text": [
      "Old Feature Names:\n",
      "['Temperature (Reaction Details) [C]', 'Time (Reaction Details) [h]', 'Yield (numerical)', 'Solvent Toxicity']\n",
      "--\n",
      "Old Feature Names:\n",
      "['Temperature', 'Time', 'Yield', 'Solvent Toxicity', 'Catalyst Toxicity']\n"
     ]
    }
   ],
   "source": [
    "#Rename feature names (reaxys feature names too long)\n",
    "features = important_columns.copy()\n",
    "features.append('Solvent Toxicity')\n",
    "print ('Old Feature Names:')\n",
    "print (features)\n",
    "print ('--')\n",
    "#features = ['Temperature','Time','Yield','Solvent Toxicity','Catalyst Toxicity', 'Has Catalyst']\n",
    "features = ['Temperature','Time','Yield','Solvent Toxicity','Catalyst Toxicity']\n",
    "print ('Old Feature Names:')\n",
    "print (features)"
   ]
  },
  {
   "cell_type": "markdown",
   "metadata": {},
   "source": [
    "### Check rank of Fabians reaction\n",
    "See in which percentile HTS would score,e.g., being the hotest or cleanest"
   ]
  },
  {
   "cell_type": "code",
   "execution_count": 37,
   "metadata": {},
   "outputs": [
    {
     "name": "stdout",
     "output_type": "stream",
     "text": [
      "Number all reactions: 453\n",
      "Number of reactions with higher temperature: 0\n",
      "0.0\n",
      "Number of reactions with faster time: 119\n",
      "0.26269315673289184\n",
      "Number of reactions with higher yield: 321\n",
      "0.7086092715231788\n",
      "Number of reactions with less toxic solvent: 0\n",
      "0.0\n",
      "Number of reactions with less toxic catalyst: 0\n",
      "0.0\n"
     ]
    }
   ],
   "source": [
    "all_reactions = len(all_Data_combined)\n",
    "print (\"Number all reactions: %d\" %all_reactions)\n",
    "\n",
    "temperatue = all_Data_combined[117][0]\n",
    "time = all_Data_combined[117][1]\n",
    "percent_yield = all_Data_combined[117][2]\n",
    "solvent_toxicity = all_Data_combined[117][3]\n",
    "catalyst_toxicity = all_Data_combined[117][4]\n",
    "\n",
    "temperature_rank = len([x for x in all_Data_combined if x[0] > temperatue])\n",
    "print ('Number of reactions with higher temperature: %d' %temperature_rank)\n",
    "print (temperature_rank/float(all_reactions))\n",
    "\n",
    "time_rank = len([x for x in all_Data_combined if x[1] < time])\n",
    "print ('Number of reactions with faster time: %d' %time_rank)\n",
    "print (time_rank/float(all_reactions))\n",
    "\n",
    "yield_rank = len([x for x in all_Data_combined if x[2] > percent_yield])\n",
    "print ('Number of reactions with higher yield: %d' %yield_rank)\n",
    "print (yield_rank/float(all_reactions))\n",
    "\n",
    "solvent_rank = len([x for x in all_Data_combined if x[3] < solvent_toxicity])\n",
    "print ('Number of reactions with less toxic solvent: %d' %solvent_rank)\n",
    "print (solvent_rank/float(all_reactions))\n",
    "\n",
    "catalyst_rank = len([x for x in all_Data_combined if x[4] < catalyst_toxicity])\n",
    "print ('Number of reactions with less toxic catalyst: %d' %catalyst_rank)\n",
    "print (catalyst_rank/float(all_reactions))"
   ]
  },
  {
   "cell_type": "markdown",
   "metadata": {},
   "source": [
    "### Find 'to good to be true reactions'\n",
    "Some reactions seem to achieve very good yields (>90) in low time, low temperature with almost no hazardness  \n",
    "Check out if they have weird reagents"
   ]
  },
  {
   "cell_type": "code",
   "execution_count": 38,
   "metadata": {},
   "outputs": [],
   "source": [
    "all_catalysts = []\n",
    "perfect_catalysts  = []\n",
    "\n",
    "#Output files containing reactions that report a almost too good to be true value of yield given the reaction parametrs\n",
    "fp_out = open('../results/3_General_Analysis/Reagents_For_PeRfEcT_Reactions.csv','w')\n",
    "fp_out.write('Reagent\\n')\n",
    "for r,l in zip(all_Data_combined,labels):\n",
    "    all_catalysts.append(l['Reagent/Catalyst'])\n",
    "    #Temperature < 25, time < 0.2h, Yield >90% and solven toxicity and catalyst toxicity <2\n",
    "    if r[0] < 25 and r[1] < 0.2 and r[2] > 90 and r[3] < 2 and r[4] < 2:\n",
    "        fp_out.write(l['Reagent/Catalyst']+'\\n')\n",
    "        perfect_catalysts.append(l['Reagent/Catalyst'])\n",
    "fp_out.close()    \n",
    "    \n",
    "\n",
    "# Check how many of those reactions use a catalys\n",
    "##\n",
    "no_catalyst = perfect_catalysts.count('None')\n",
    "has_catalyst = len(perfect_catalysts) - no_catalyst\n",
    "\n",
    "plt.title('\"Perfect\" reactions having catalyst [n = %d] ' %len(perfect_catalysts))\n",
    "plt.pie([has_catalyst,no_catalyst], colors =['#1a9850','#d73027'], labels=['Has catalyst', 'Has no catalyst'],  autopct='%1.1f%%', pctdistance=0.75)\n",
    "plt.savefig('../results/3_General_Analysis/Piechart_PerfectR_Catalysts.pdf')\n",
    "plt.close()\n",
    "\n",
    "\n",
    "\n",
    "# Make pie chart of reaction of how often in general they use a catalyst\n",
    "##\n",
    "no_catalyst = all_catalysts.count('None')\n",
    "has_catalyst = len(all_catalysts) - no_catalyst\n",
    "plt.title('All reactions having catalyst [n = %d] ' %len(all_catalysts))\n",
    "plt.pie([has_catalyst,no_catalyst], colors =['#1a9850','#d73027'], labels=['Has catalyst', 'Has no catalyst'],  autopct='%1.1f%%', pctdistance=0.75)\n",
    "plt.savefig('../results/3_General_Analysis/Piechart_All_Catalysts.pdf')\n",
    "plt.close()"
   ]
  },
  {
   "cell_type": "markdown",
   "metadata": {},
   "source": [
    "### Make a PCA analysis"
   ]
  },
  {
   "cell_type": "code",
   "execution_count": 39,
   "metadata": {},
   "outputs": [],
   "source": [
    "#create a figure legend\n",
    "legend_elements = [Line2D([0], [0], marker='.', color='w', markerfacecolor='grey', label='Literature'),\n",
    "                  Line2D([0], [0], marker='s', color='w', markerfacecolor='grey', label='Real')]\n",
    "for i in list(set(reactions['Compound_ID'])):\n",
    "    legend_elements.append(Line2D([0], [0], marker='o', color='w', markerfacecolor=colormap(i-1), label='Cmp '+str(i)))"
   ]
  },
  {
   "cell_type": "code",
   "execution_count": 40,
   "metadata": {},
   "outputs": [
    {
     "name": "stdout",
     "output_type": "stream",
     "text": [
      "['Temperature', 'Time', 'Yield', 'Solvent Toxicity', 'Catalyst Toxicity']\n",
      "[[ 0.23419981  0.57752123 -0.52377685  0.36236055 -0.45384174]\n",
      " [-0.75973898  0.21511451 -0.02695247  0.51861081  0.32686207]]\n",
      "Reaction\n",
      "Yield\n",
      "Time\n",
      "Temperature\n",
      "Solvent_Toxicity\n",
      "Catalysator_Toxcity\n",
      "Has_Catalystor\n"
     ]
    }
   ],
   "source": [
    "#Scale values (use StandardScaler, i.e., all values scaled in standard deviations away from mean)\n",
    "#Typically improves PCAs\n",
    "x = StandardScaler().fit_transform(all_Data_combined)\n",
    "\n",
    "#create PCA\n",
    "pca = PCA(n_components=2)\n",
    "\n",
    "#Fit PCA to scaled values\n",
    "X = pca.fit_transform(x)\n",
    "\n",
    "#check amount of variance explained by the indiviual principal components\n",
    "components = pca.explained_variance_ratio_\n",
    "\n",
    "print (features)\n",
    "print(pca.components_ )\n",
    "\n",
    "#use the previously defined colorsets\n",
    "colorsets = {'Reaction':colors_reactionNumber,\n",
    "             'Yield':colors_continues['Yield (numerical)'],'Time':colors_continues['Time (Reaction Details) [h]'],'Temperature':colors_continues['Temperature (Reaction Details) [C]'],\n",
    "             \"Solvent_Toxicity\":colors_solvent, 'Catalysator_Toxcity':colors_catalysator, 'Has_Catalystor':colors_has_catalysator}\n",
    "\n",
    "#go through all parameters, e.g., temperature, reaction time etc.\n",
    "for c_set in colorsets:\n",
    "    print (c_set)\n",
    "    for row,literat, reaction_id in zip(X,is_literature,colorsets[c_set]):\n",
    "        if literat == True:\n",
    "            plt.scatter(row[0],row[1],color=reaction_id, marker='.', alpha=0.8, lw=0 , s=50)\n",
    "        else:\n",
    "            plt.scatter(row[0],row[1],color=reaction_id, marker='s', alpha = 0.8, lw=0, s=50)\n",
    "\n",
    "    #add arrows showing the importance of specific features to the principal components\n",
    "    Add_Feature_Importance_PCA(X[:,0:2],np.transpose(pca.components_[0:2, :]),features)\n",
    "    \n",
    "    plt.title(c_set)\n",
    "    \n",
    "    if c_set == 'Reaction':\n",
    "        plt.legend(handles=legend_elements,loc='best',  prop={'size': 6}, frameon=False)\n",
    "    plt.xlabel('PC1 [%.2f]' %components[0])\n",
    "    plt.ylabel('PC2 [%.2f]' %components[1])\n",
    "    #plt.show()\n",
    "    plt.savefig('../results/3_General_Analysis/PCA/PCA_withFeatures_'+c_set+'.pdf')\n",
    "    plt.close()"
   ]
  },
  {
   "cell_type": "markdown",
   "metadata": {},
   "source": [
    "### TSNE"
   ]
  },
  {
   "cell_type": "markdown",
   "metadata": {},
   "source": [
    "Make a TSNE analysis (show feature expression as well as a cluster analysis)"
   ]
  },
  {
   "cell_type": "code",
   "execution_count": 41,
   "metadata": {},
   "outputs": [],
   "source": [
    "#create a figure legend\n",
    "legend_elements = [Line2D([0], [0], marker='.', color='w', markerfacecolor='grey', label='Literature'),\n",
    "                  Line2D([0], [0], marker='s', color='w', markerfacecolor='grey', label='Real')]\n",
    "for i in list(set(reactions['Compound_ID'])):\n",
    "    legend_elements.append(Line2D([0], [0], marker='o', color='w', markerfacecolor=colormap(i-1), label='Cmp '+str(i)))"
   ]
  },
  {
   "cell_type": "code",
   "execution_count": 42,
   "metadata": {},
   "outputs": [
    {
     "name": "stdout",
     "output_type": "stream",
     "text": [
      "Reaction\n",
      "Yield\n",
      "Time\n",
      "Temperature\n",
      "Solvent_Toxicity\n",
      "Catalysator_Toxcity\n",
      "Has_Catalystor\n"
     ]
    }
   ],
   "source": [
    "#define random state (to get same results)\n",
    "rand_state = 400\n",
    "\n",
    "#Initialize T-SNE\n",
    "X_TSNE = TSNE(n_components=2,perplexity=45.0, random_state=rand_state).fit_transform(x)\n",
    "\n",
    "#Same as for PCA (overaly colorset for each parameter), then plot T-SNE\n",
    "for c_set in colorsets:\n",
    "    print (c_set)\n",
    "    for row,literat, reaction_id in zip(X_TSNE,is_literature,colorsets[c_set]):\n",
    "        if literat == True:\n",
    "            plt.scatter(row[0],row[1],color=reaction_id, marker='.', alpha=0.8)\n",
    "        else:\n",
    "            plt.scatter(row[0],row[1],color=reaction_id, marker='s', alpha = 0.8)\n",
    "\n",
    "    plt.title(c_set)\n",
    "    if c_set == 'Reaction':\n",
    "        plt.legend(handles=legend_elements,loc='best',  prop={'size': 6}, frameon=False)\n",
    "    plt.xlabel('tsne1')\n",
    "    plt.ylabel('tsne2')\n",
    "    plt.savefig('../results/3_General_Analysis/TSNE/TSNE_'+c_set+'.pdf')\n",
    "    plt.close()"
   ]
  },
  {
   "cell_type": "code",
   "execution_count": 43,
   "metadata": {},
   "outputs": [],
   "source": [
    "# Make K-Means clustering, create elbow curve (showing optimal amount of k)\n",
    "# Analyse between 1 and 10\n",
    "###\n",
    "number_to_analyse = 10\n",
    "\n",
    "#vector containing remaining distortion\n",
    "distorsions = []\n",
    "\n",
    "#make K-mean clustering between k=1 and k=9\n",
    "for k in range(1, number_to_analyse):\n",
    "    kmeans = KMeans(n_clusters=k)\n",
    "    kmeans.fit(X_TSNE)\n",
    "    distorsions.append(kmeans.inertia_)\n",
    "\n",
    "fig = plt.figure(figsize=(15, 5))\n",
    "plt.plot(range(1, number_to_analyse), distorsions)\n",
    "plt.title('Elbow curve')\n",
    "plt.ylabel('Sum Squared Distances to closest cluster center')\n",
    "plt.xlabel('Number of clusters')\n",
    "plt.savefig('../results/3_General_Analysis/TSNE/TSNE_ElbowCurve.pdf')\n",
    "plt.close()"
   ]
  },
  {
   "cell_type": "code",
   "execution_count": 44,
   "metadata": {},
   "outputs": [],
   "source": [
    "# use k = 8, according to elbow curve\n",
    "##\n",
    "num_clusters = 8\n",
    "\n",
    "#define new colormap (for different cluster)\n",
    "colormap = cm.get_cmap('tab20')\n",
    "\n",
    "#make K-Mean clustering\n",
    "kmeans = KMeans(n_clusters=num_clusters, random_state=rand_state,max_iter=2000).fit(X_TSNE)\n",
    "\n",
    "#Plot the scatterplot, make different marker for HTS (square) and literature (point)\n",
    "for row,literat, cluster in zip(X_TSNE,is_literature,kmeans.labels_):\n",
    "    if literat == True:\n",
    "        plt.scatter(row[0],row[1],color=colormap(cluster), marker='.')\n",
    "    else:\n",
    "        plt.scatter(row[0],row[1],color=colormap(cluster), marker='s')\n",
    "\n",
    "        #make figure legend (HTS vs. literature)\n",
    "        legend_elements = [Line2D([0], [0], marker='.', color='w', markerfacecolor='grey', label='Literature'),\n",
    "                  Line2D([0], [0], marker='s', color='w', markerfacecolor='grey', label='Real')]\n",
    "\n",
    "#add cluster color to figure legend\n",
    "for i in range(0,num_clusters):\n",
    "    legend_elements.append(Line2D([0], [0], marker='o', color='w', markerfacecolor=colormap(i), label='Cluster '+str(i)))\n",
    "\n",
    "plt.legend(handles=legend_elements,loc='best',  prop={'size': 6}, frameon=False)  \n",
    "plt.xlabel('tsne1')\n",
    "plt.ylabel('tsne2')\n",
    "plt.savefig('../results/3_General_Analysis/TSNE/TSNE_withCluster.pdf')\n",
    "plt.close()"
   ]
  },
  {
   "cell_type": "code",
   "execution_count": 45,
   "metadata": {},
   "outputs": [],
   "source": [
    "#TSNE in gray\n",
    "for row,literat, cluster in zip(X_TSNE,is_literature,kmeans.labels_):\n",
    "    if literat == True:\n",
    "        plt.scatter(row[0],row[1],color='grey', marker='.', alpha = 0.4, linewidth=0)\n",
    "    else:\n",
    "        plt.scatter(row[0],row[1],color='grey', marker='s', alpha = 0.4, linewidth=0)\n",
    "\n",
    "\n",
    "        legend_elements = [Line2D([0], [0], marker='.', color='w', markerfacecolor='grey', label='Literature'),\n",
    "                  Line2D([0], [0], marker='s', color='w', markerfacecolor='grey', label='Real')]\n",
    "for i in range(0,num_clusters):\n",
    "    legend_elements.append(Line2D([0], [0], marker='o', color='w', markerfacecolor=colormap(i), label='Cluster '+str(i)))\n",
    "\n",
    "plt.legend(handles=legend_elements,loc='best',  prop={'size': 6}, frameon=False)\n",
    "        \n",
    "plt.xlabel('tsne1')\n",
    "plt.ylabel('tsne2')\n",
    "#plt.show()\n",
    "plt.savefig('../results/3_General_Analysis/TSNE/TSNE_grey.pdf')\n",
    "plt.close()"
   ]
  },
  {
   "cell_type": "code",
   "execution_count": 46,
   "metadata": {},
   "outputs": [],
   "source": [
    "# Make an analysis showing the feature distribution for the individual clusters, see if certain cluster correspond to certain parameter expression\n",
    "#\n",
    "###\n",
    "\n",
    "#initiliaze dictionary (contain final cluster results)\n",
    "per_cluster_results = {}\n",
    "for i in range(0,num_clusters):\n",
    "    per_cluster_results[i] = []\n",
    "\n",
    "#add data to cluster dic\n",
    "for data,cluster in zip(x,kmeans.labels_):\n",
    "        per_cluster_results[cluster].append(data)\n",
    "\n",
    "# Make a boxplot and a bar plot for EACH cluster\n",
    "##\n",
    "for i in range(0,num_clusters):      \n",
    "    tmp = []\n",
    "    for f in range(0,len(features)):\n",
    "        tmp.append(np.array(per_cluster_results[i])[:,f])\n",
    "    \n",
    "    # Make boxplot\n",
    "    ##\n",
    "    bplot = plt.boxplot(tmp,patch_artist=True)\n",
    "    # fill with colors\n",
    "    colors = ['#1b9e77','#d95f02','#7570b3','#e7298a','#66a61e']\n",
    "    for patch, color in zip(bplot['boxes'], colors):\n",
    "        patch.set_facecolor(color)\n",
    "    \n",
    "    plt.xticks(range(1,len(features)+1),features, rotation=14)\n",
    "    plt.axhline(0, color='grey', ls='--')\n",
    "    plt.savefig('../results/3_General_Analysis/TSNE/TSNE_CLUSTER_Results/Cluster_'+str(i)+'_boxplot.pdf')\n",
    "    plt.close()\n",
    "    \n",
    "\n",
    "    # Make bar plot\n",
    "    ##\n",
    "    plt.bar(range(0,len(features)),[np.mean(d) for d in tmp], yerr = [np.std(d) for d in tmp], color = ['#1b9e77','#d95f02','#7570b3','#e7298a','#66a61e'])\n",
    "    plt.xticks(range(0,len(features)+1),features)\n",
    "    plt.axhline(0, color='grey', ls='--')\n",
    "    plt.ylim([-3.5,4])\n",
    "    plt.savefig('../results/3_General_Analysis/TSNE/TSNE_CLUSTER_Results/Cluster_'+str(i)+'_barplot.pdf')\n",
    "    plt.close()"
   ]
  },
  {
   "cell_type": "markdown",
   "metadata": {},
   "source": [
    "### UMAP\n",
    "Same as for T-SNE using UMAP (not used in final paper)"
   ]
  },
  {
   "cell_type": "code",
   "execution_count": 47,
   "metadata": {},
   "outputs": [],
   "source": [
    "#create a figure legend\n",
    "legend_elements = [Line2D([0], [0], marker='.', color='w', markerfacecolor='grey', label='Literature'),\n",
    "                  Line2D([0], [0], marker='s', color='w', markerfacecolor='grey', label='Real')]\n",
    "for i in list(set(reactions['Compound_ID'])):\n",
    "    legend_elements.append(Line2D([0], [0], marker='o', color='w', markerfacecolor=colormap(i-1), label='Cmp '+str(i)))"
   ]
  },
  {
   "cell_type": "code",
   "execution_count": 48,
   "metadata": {},
   "outputs": [
    {
     "name": "stdout",
     "output_type": "stream",
     "text": [
      "Reaction\n",
      "Yield\n",
      "Time\n",
      "Temperature\n",
      "Solvent_Toxicity\n",
      "Catalysator_Toxcity\n",
      "Has_Catalystor\n"
     ]
    }
   ],
   "source": [
    "# Initialize UMAP and fit data\n",
    "reducer = umap.UMAP(n_neighbors=25, min_dist=0.6, metric='correlation', random_state=2500)\n",
    "X_UMAP = reducer.fit_transform(x)\n",
    "\n",
    "#Same as for PCA (overaly colorset for each parameter), then plot T-SNE\n",
    "for c_set in colorsets:\n",
    "    print (c_set)\n",
    "    for row,literat, reaction_id in zip(X_UMAP,is_literature,colorsets[c_set]):\n",
    "        if literat == True:\n",
    "            plt.scatter(row[0],row[1],color=reaction_id, marker='.', alpha=1)\n",
    "        else:\n",
    "            plt.scatter(row[0],row[1],color=reaction_id, marker='s', alpha = 1)\n",
    "\n",
    "    plt.title(c_set)\n",
    "    if c_set == 'Reaction':\n",
    "        plt.legend(handles=legend_elements,loc='best',  prop={'size': 6}, frameon=False)\n",
    "    plt.xlabel('UMAP1')\n",
    "    plt.ylabel('UMAP2')\n",
    "    #plt.show()\n",
    "    plt.savefig('../results/3_General_Analysis/UMAP/UMAP_'+c_set+'.pdf')\n",
    "    plt.close()\n"
   ]
  },
  {
   "cell_type": "code",
   "execution_count": 49,
   "metadata": {},
   "outputs": [],
   "source": [
    "#Make elbow curve to identify ideal amount of clusters\n",
    "num_clusters = 10\n",
    "\n",
    "distorsions = []\n",
    "for k in range(1, num_clusters):\n",
    "    kmeans = KMeans(n_clusters=k)\n",
    "    kmeans.fit(X_UMAP)\n",
    "    distorsions.append(kmeans.inertia_)\n",
    "\n",
    "fig = plt.figure(figsize=(15, 5))\n",
    "plt.plot(range(1, num_clusters), distorsions)\n",
    "plt.title('Elbow curve')\n",
    "plt.ylabel('Sum Squared Distances to closest cluster center')\n",
    "plt.xlabel('Number of clusters')\n",
    "plt.savefig('../results/3_General_Analysis/UMAP/UMAP_ElbowCurve.pdf')\n",
    "plt.close()"
   ]
  },
  {
   "cell_type": "code",
   "execution_count": 50,
   "metadata": {},
   "outputs": [],
   "source": [
    "#Use same number of clusters as identified for T-SNE = 8\n",
    "num_clusters = 8\n",
    "\n",
    "#Make colormap for different clusters\n",
    "colormap = cm.get_cmap('tab20')\n",
    "\n",
    "#Make K-Mean clustering for k=8\n",
    "kmeans = KMeans(n_clusters=num_clusters, random_state=rand_state,max_iter=2000).fit(X_UMAP)\n",
    "\n",
    "#Plot the scatterplot, make different marker for HTS (square) and literature (point)\n",
    "for row,literat, cluster in zip(X_UMAP,is_literature,kmeans.labels_):\n",
    "    if literat == True:\n",
    "        plt.scatter(row[0],row[1],color=colormap(cluster), marker='.')\n",
    "    else:\n",
    "        plt.scatter(row[0],row[1],color=colormap(cluster), marker='s')\n",
    "\n",
    "        #make figure legend (HTS vs. literature)\n",
    "        legend_elements = [Line2D([0], [0], marker='.', color='w', markerfacecolor='grey', label='Literature'),\n",
    "                  Line2D([0], [0], marker='s', color='w', markerfacecolor='grey', label='Real')]\n",
    "#add cluster color to figure legend\n",
    "for i in range(0,num_clusters):\n",
    "    legend_elements.append(Line2D([0], [0], marker='o', color='w', markerfacecolor=colormap(i), label='Cluster '+str(i)))\n",
    "\n",
    "plt.legend(handles=legend_elements,loc='best',  prop={'size': 6}, frameon=False)\n",
    "        \n",
    "plt.xlabel('umap1')\n",
    "plt.ylabel('umap2')\n",
    "plt.savefig('../results/3_General_Analysis/UMAP/UMAP_withCluster.pdf')\n",
    "plt.close()"
   ]
  },
  {
   "cell_type": "code",
   "execution_count": 51,
   "metadata": {},
   "outputs": [],
   "source": [
    "# Make an analysis showing the feature distribution for the individual clusters, see if certain cluster correspond to certain parameter expression\n",
    "#\n",
    "###\n",
    "\n",
    "#initiliaze dictionary (contain final cluster results)\n",
    "per_cluster_results = {}\n",
    "for i in range(0,num_clusters):\n",
    "    per_cluster_results[i] = []\n",
    "\n",
    "#add data to cluster dic\n",
    "for data,cluster in zip(x,kmeans.labels_):\n",
    "        per_cluster_results[cluster].append(data)\n",
    "\n",
    "# Make a boxplot and a bar plot for EACH cluster\n",
    "##        \n",
    "for i in range(0,num_clusters):      \n",
    "    tmp = []\n",
    "    for f in range(0,len(features)):\n",
    "        tmp.append(np.array(per_cluster_results[i])[:,f])\n",
    "    \n",
    "    # Make boxplot\n",
    "    ##\n",
    "    plt.boxplot(tmp)\n",
    "    plt.xticks(range(1,len(features)+1),features)\n",
    "    plt.axhline(0, color='grey', ls='--')\n",
    "    plt.savefig('../results/3_General_Analysis/UMAP/UMAP_CLUSTER_Results/Cluster_'+str(i)+'_boxplot.pdf')\n",
    "    plt.close()\n",
    "    \n",
    "    # Make barplot\n",
    "    ##\n",
    "    plt.bar(range(0,len(features)),[np.mean(d) for d in tmp], yerr = [np.std(d) for d in tmp], color = ['#1b9e77','#d95f02','#7570b3','#e7298a','#66a61e'])\n",
    "    plt.xticks(range(0,len(features)+1),features)\n",
    "    plt.axhline(0, color='grey', ls='--')\n",
    "    #plt.ylim([-5,5])\n",
    "    plt.savefig('../results/3_General_Analysis/UMAP/UMAP_CLUSTER_Results/Cluster_'+str(i)+'_barplot.pdf')\n",
    "    plt.close()"
   ]
  },
  {
   "cell_type": "code",
   "execution_count": null,
   "metadata": {},
   "outputs": [],
   "source": []
  },
  {
   "cell_type": "code",
   "execution_count": null,
   "metadata": {},
   "outputs": [],
   "source": []
  }
 ],
 "metadata": {
  "kernelspec": {
   "display_name": "Python 3",
   "language": "python",
   "name": "python3"
  },
  "language_info": {
   "codemirror_mode": {
    "name": "ipython",
    "version": 3
   },
   "file_extension": ".py",
   "mimetype": "text/x-python",
   "name": "python",
   "nbconvert_exporter": "python",
   "pygments_lexer": "ipython3",
   "version": "3.7.2"
  }
 },
 "nbformat": 4,
 "nbformat_minor": 4
}

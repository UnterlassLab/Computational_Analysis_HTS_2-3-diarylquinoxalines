{
 "cells": [
  {
   "cell_type": "markdown",
   "metadata": {},
   "source": [
    "# Make lists of all Solvents and Catalysts (+Reagents)\n",
    "This jupyter notebook creates lists of e.g. used solvents within the found reactions"
   ]
  },
  {
   "cell_type": "markdown",
   "metadata": {},
   "source": [
    "## Libraries"
   ]
  },
  {
   "cell_type": "code",
   "execution_count": 1,
   "metadata": {},
   "outputs": [],
   "source": [
    "from os import listdir\n",
    "from os.path import isfile, join\n",
    "import pandas as pd\n",
    "import collections"
   ]
  },
  {
   "cell_type": "markdown",
   "metadata": {},
   "source": [
    "## Solvents"
   ]
  },
  {
   "cell_type": "code",
   "execution_count": 2,
   "metadata": {},
   "outputs": [
    {
     "name": "stdout",
     "output_type": "stream",
     "text": [
      "Number of solvents: 25\n"
     ]
    }
   ],
   "source": [
    "#open all compound reaction files\n",
    "onlyfiles = [f for f in listdir('../data/raw/compounds/') if isfile(join('../data/raw/compounds/', f)) if 'DS_' not in f]\n",
    "\n",
    "#go through all files\n",
    "all_solvent = []\n",
    "for file in onlyfiles:\n",
    "    df = pd.read_excel('../data/raw/compounds/'+file)\n",
    "    all_solvent.extend( df['Solvent (Reaction Details)'].unique())\n",
    "\n",
    "#save all unique used solvents within all found reactions\n",
    "all_solvent = list(set(all_solvent))\n",
    "all_solvent = [x for x in all_solvent if str(x) != 'nan']\n",
    "\n",
    "print ('Number of solvents: %d' %len(all_solvent))"
   ]
  },
  {
   "cell_type": "code",
   "execution_count": 3,
   "metadata": {},
   "outputs": [
    {
     "name": "stdout",
     "output_type": "stream",
     "text": [
      "ethyl acetate\n",
      "water; toluene; acetonitrile\n",
      "methanol; water\n",
      "ethanol; ethanol\n",
      "water; acetonitrile\n",
      "nitromethane; water\n",
      "glycerol\n",
      "1,4-dioxane; N,N-dimethyl-formamide\n",
      "acetic acid\n",
      "toluene\n",
      "dimethyl sulfoxide\n",
      "methanol\n",
      "acetonitrile\n",
      "1,2-dichloro-ethane\n",
      "ethyl acetate; N,N-dimethyl-formamide\n",
      "dichloromethane\n",
      "chlorobenzene\n",
      "water\n",
      "ethanol; water\n",
      "methanol; chloroform\n",
      "water; glycerol\n",
      "methanol; acetic acid\n",
      "chloroform\n",
      "neat (no solvent)\n",
      "ethanol\n"
     ]
    }
   ],
   "source": [
    "#Output all used solvents\n",
    "fp_out = open('../results/1_Solvent_Catalyst_Lists/List_of_all_solvents.tsv','w')\n",
    "for solvent in all_solvent:\n",
    "    print (solvent)\n",
    "    fp_out.write(solvent+'\\n')\n",
    "fp_out.close()"
   ]
  },
  {
   "cell_type": "markdown",
   "metadata": {},
   "source": [
    "## Catalysts + Reagents"
   ]
  },
  {
   "cell_type": "code",
   "execution_count": 4,
   "metadata": {},
   "outputs": [
    {
     "name": "stdout",
     "output_type": "stream",
     "text": [
      "Reaxys_Compound_6.xlsx\n",
      "Reaxys_Compound_7.xlsx\n",
      "Reaxys_Compound_10.xlsx\n",
      "Reaxys_Compound_1.xlsx\n",
      "Reaxys_Compound_11.xlsx\n",
      "Reaxys_Compound_2.xlsx\n",
      "Reaxys_Compound_12.xlsx\n",
      "Reaxys_Compound_13.xlsx\n",
      "Reaxys_Compound_3.xlsx\n",
      "Reaxys_Compound_4.xlsx\n",
      "Reaxys_Compound_14.xlsx\n",
      "Reaxys_Compound_8.xlsx\n",
      "Reaxys_Compound_9.xlsx\n",
      "Reaxys_Compound_5.xlsx\n",
      "Number of reagents and catalysts: 122\n"
     ]
    }
   ],
   "source": [
    "#open all compound reaction files\n",
    "onlyfiles = [f for f in listdir('../data/raw/compounds/') if isfile(join('../data/raw/compounds/', f)) if 'DS_' not in f]\n",
    "\n",
    "#lists that contains all reagents/catalysts\n",
    "all_reagents_and_catalysts = []\n",
    "\n",
    "#go through all files\n",
    "for file in onlyfiles:\n",
    "    print (file)\n",
    "    #open the file as pandas dataframe\n",
    "    df = pd.read_excel('../data/raw/compounds/'+file)\n",
    "    \n",
    "    #get unique reagent and catalyst\n",
    "    reagents =  df['Reagent'].unique()\n",
    "    catalysts =  df['Catalyst'].unique()\n",
    "\n",
    "    #add to list\n",
    "    all_reagents_and_catalysts.extend(reagents)\n",
    "    all_reagents_and_catalysts.extend(catalysts)\n",
    "    \n",
    "#keep only unqie\n",
    "all_reagents_and_catalysts = list(set(all_reagents_and_catalysts))\n",
    "all_reagents_and_catalysts = [x for x in all_reagents_and_catalysts if str(x) != 'nan']\n",
    "\n",
    "print ('Number of reagents and catalysts: %d' %len(all_reagents_and_catalysts))"
   ]
  },
  {
   "cell_type": "code",
   "execution_count": 5,
   "metadata": {},
   "outputs": [
    {
     "name": "stdout",
     "output_type": "stream",
     "text": [
      "samarium(III) trifluoromethanesulfonate\n",
      "TiO2-P25-SO42-\n",
      "ZrO2?Al2O3 catalyst\n",
      "mesoporous silica SBA-15 functionalized with Cu(II)-DiAmSar complex\n",
      "solid phase supported zirconium(IV) complex\n",
      "pyridine; copper(l) iodide\n",
      "polyethylene glycol-400\n",
      "ammonium bromide\n",
      "zinc trifluoromethanesulfonate\n",
      "oxygen; triethylamine\n",
      "1-butyl-3-methylimidazolium Tetrafluoroborate\n",
      "acetic acid\n",
      "hydrogen fluoride\n",
      "ZnO-loaded mesoporous silica (KIT-6) (aged at 130 °C and containing 10 wtpercent ZnO)\n",
      "dibromotrimethoxyphosphorane; triethylamine\n",
      "zirconium triflate\n",
      "nanoparticle-supported cobalt catalyst; air\n",
      "1,4-diaza-bicyclo[2.2.2]octane; acetic acid\n",
      "Graphite\n",
      "ZrOL2(at)SMNP\n",
      "Thiamine hydrochloride\n",
      "1-n-butyl-3-methylimidazolium methanesulfonate\n",
      "1,1,1,3',3',3'-hexafluoro-propanol\n",
      "bismuth(lll) trifluoromethanesulfonate\n",
      "lithium chloride\n",
      "tungstate sulfuric acid\n",
      "lead(II) chloride\n",
      "C20H24Cl2N2O2Zr\n",
      "tin (IV) chloride pentahydrate\n",
      "silica nanosphere-graphene oxide hybrid\n",
      "aluminum oxide\n",
      "toluene-4-sulfonic acid\n",
      "molybdenum(VI) trioxide\n",
      "vitamin B1\n",
      "niobium pentachloride\n",
      "alumina supported sulfuric acid\n",
      "citric acid\n",
      "(2,3,4,5,6-pentafluorophenyl)ammonium triflate\n",
      "magnesium sulfate heptahydrate\n",
      "Fe/Al-MCM-41\n",
      "silica-supported bismuth(III) chloride\n",
      "ZnO-beta-zeolite\n",
      "zirconium oxide salicylaldehyde-(3-aminopropyl)trimethoxysilane imine complex modified SBA-15\n",
      "Tween 40\n",
      "gallium(III) triflate\n",
      "zirconia supported tungstophosphoric acid\n",
      "sulfated titania (TiO2-SO42-)\n",
      "Cs(cetyltrimethylammonium)2PW12O40\n",
      "aminosulfonic acid\n",
      "cobalt(III) 5,10,15,20-tetraarylporphyrin\n",
      "aluminum(III) hydrogen sulfate\n",
      "ammonium acetate\n",
      "perlite supported bismuth chloride\n",
      "manganese(II) ferrite; oxygen\n",
      "nano-BF3*SiO2\n",
      "VO(furan-2-carbaldehyde nicotinic hydrazone)(OCH3)\n",
      "ammonium fluoride-hydrogen fluoride\n",
      "1-ethyl-3-methylimidazolium triflate\n",
      "zirconium dioxide\n",
      "manganese(ll) chloride\n",
      "ethanol\n",
      "SBA-15 mesoporous silica supported Fe(III)-Schiff base\n",
      "ZrO2-Al2O3 catalyst\n",
      "1-(propyl-3-sulfonate) 3-methylimidazol(3H)-1-ium phosphotungstate\n",
      "amberlyst-15\n",
      "potassium hydrogensulfate\n",
      "H3PMo12O40 nanoparticles immobilized on imidazole functionalized core-shell Fe3O4-SiO2 nanoparticle\n",
      "acetic acid 5%\n",
      "indium\n",
      "nitrilo-tris(methylenephosphonic acid)\n",
      "sulfate loaded TiO2\n",
      "nano-crystalline sulfated zirconia\n",
      "chromium(II) chloride hexahydratete\n",
      "ZnO-loaded mesoporous silica (KIT-6) (aged at 130 C and containing 10 wt% ZnO)\n",
      "saccharin\n",
      "1-butylimidazolium tetrafluoroborate\n",
      "H6P2W18O62\n",
      "Acetic acid 5%\n",
      "sulfonated rice husk ash\n",
      "propylsulfonic acid functionalized nanozeolite clinoptilolite\n",
      "2,4,6-tripropyl-1,3,5,2,4,6-trioxatriphosphinane-2,4,6-trioxide\n",
      "sulfuric acid; acetic acid\n",
      "polyaniline/SiO2\n",
      "indium (III) chloride\n",
      "zeolite HY\n",
      "polyvinylimidazole-based Bronsted acidic ionic liquid grafted silica\n",
      "PVPP*OTf\n",
      "phenol\n",
      "PEG-400\n",
      "oxovanadium(IV) sulfate\n",
      "Polystyrene-Supported AlCl3\n",
      "Bronsted acidic ionic liquid supported on nano silica\n",
      "alkylsulfonate functionalized metal organic framework\n",
      "graphene oxide\n",
      "poly(ethylene glycol)-600\n",
      "iron(II,III) oxide\n",
      "potassium fluoride on basic alumina\n",
      "1-methyl-3-(4-sulfobutyl)-1H-imidazol-3-ium hydrogensulfate\n",
      "zinc(II) chloride\n",
      "ethanol; acetic acid\n",
      "potassium phosphate\n",
      "Cu(II)-Schiff base/SBA-15\n",
      "ziconium(IV) oxychloride octahydrate\n",
      "silica gel\n",
      "10 wtpercent sulfated polyborate\n",
      "Co(TpOMePP)Cl\n",
      "ethanol; chloroform\n",
      "zirconium(IV) chloride\n",
      "1-methyl-3-(3-trimethoxysilylpropyl)imidazolium hydrogen sulfate immobilized on cellulose\n",
      "magnesium hydrogen sulfate\n",
      "N,N,N?,N?-tetrabromobenzene-1,3-disulfonamide\n",
      "rice husk\n",
      "silica supported 12-tungstophosphoric acid nanoparticles\n",
      "titanium(IV) oxide\n",
      "zirconium tetrakis(dodecyl sulfate)\n",
      "lanthanum(lll) triflate\n",
      "silica-supported stannous chloride\n",
      "cerium(III) chloride heptahydrate\n",
      "sodium tosylate; toluene-4-sulfonic acid\n",
      "iodine\n",
      "sulfated TiO2-P25 (Degussa titania)\n",
      "hydrogenchloride\n"
     ]
    }
   ],
   "source": [
    "#save list of reagents/catalysts\n",
    "fp_out = open('../results/1_Solvent_Catalyst_Lists/List_of_all_reagents_and_catalysts.tsv','w')\n",
    "for r_c in all_reagents_and_catalysts:\n",
    "    print (r_c)\n",
    "    fp_out.write(r_c+'\\n')\n",
    "fp_out.close()"
   ]
  },
  {
   "cell_type": "markdown",
   "metadata": {},
   "source": [
    "## Other conditions"
   ]
  },
  {
   "cell_type": "code",
   "execution_count": 6,
   "metadata": {},
   "outputs": [
    {
     "name": "stdout",
     "output_type": "stream",
     "text": [
      "Reaxys_Compound_6.xlsx\n",
      "Reaxys_Compound_7.xlsx\n",
      "Reaxys_Compound_10.xlsx\n",
      "Reaxys_Compound_1.xlsx\n",
      "Reaxys_Compound_11.xlsx\n",
      "Reaxys_Compound_2.xlsx\n",
      "Reaxys_Compound_12.xlsx\n",
      "Reaxys_Compound_13.xlsx\n",
      "Reaxys_Compound_3.xlsx\n",
      "Reaxys_Compound_4.xlsx\n",
      "Reaxys_Compound_14.xlsx\n",
      "Reaxys_Compound_8.xlsx\n",
      "Reaxys_Compound_9.xlsx\n",
      "Reaxys_Compound_5.xlsx\n",
      "['Reflux', 'Green chemistry', 'Neat (no solvent)', 'Sonication', 'neat (no solvent)', 'Heating', 'Irradiation', 'Microwave irradiation']\n",
      "Number of conditions: 8\n"
     ]
    }
   ],
   "source": [
    "#open all compound reaction files\n",
    "onlyfiles = [f for f in listdir('../data/raw/compounds/') if isfile(join('../data/raw/compounds/', f)) if 'DS_' not in f]\n",
    "\n",
    "#lists that contains all reagents/catalysts\n",
    "all_conditions = []\n",
    "\n",
    "#go through all files\n",
    "for file in onlyfiles:\n",
    "    #file = 'Reaxys_Compound_1.xlsx'\n",
    "    print (file)\n",
    "    df = pd.read_excel('../data/raw/compounds/'+file)\n",
    "    \n",
    "    #get unique reagent and catalyst\n",
    "    conditions =  df['Other Conditions'].unique()\n",
    "\n",
    "    #add to list\n",
    "    all_conditions.extend(conditions)\n",
    "\n",
    "    \n",
    "Count = collections.Counter(all_conditions)\n",
    "\n",
    "#check categories and output those that are at least >5 times used\n",
    "keep_categories =[]\n",
    "for c in Count.most_common(50):\n",
    "    if str(c[0]) != 'nan' and ';' not in str(c[0]):\n",
    "        \n",
    "        if c[1] >=5:\n",
    "            keep_categories.append(c[0])\n",
    "\n",
    "print (keep_categories)\n",
    "print ('Number of conditions: %d' %len(keep_categories))"
   ]
  },
  {
   "cell_type": "code",
   "execution_count": 7,
   "metadata": {},
   "outputs": [
    {
     "name": "stdout",
     "output_type": "stream",
     "text": [
      "Reflux\n",
      "Green chemistry\n",
      "Neat (no solvent)\n",
      "Sonication\n",
      "neat (no solvent)\n",
      "Heating\n",
      "Irradiation\n",
      "Microwave irradiation\n"
     ]
    }
   ],
   "source": [
    "#save list of conditions\n",
    "fp_out = open('../results/1_Solvent_Catalyst_Lists/List_of_interesting_conditions.tsv','w')\n",
    "for r_c in keep_categories:\n",
    "    print (r_c)\n",
    "    fp_out.write(r_c+'\\n')\n",
    "fp_out.close()"
   ]
  }
 ],
 "metadata": {
  "kernelspec": {
   "display_name": "Python 3",
   "language": "python",
   "name": "python3"
  },
  "language_info": {
   "codemirror_mode": {
    "name": "ipython",
    "version": 3
   },
   "file_extension": ".py",
   "mimetype": "text/x-python",
   "name": "python",
   "nbconvert_exporter": "python",
   "pygments_lexer": "ipython3",
   "version": "3.7.2"
  }
 },
 "nbformat": 4,
 "nbformat_minor": 4
}
